{
 "cells": [
  {
   "cell_type": "code",
   "execution_count": 2,
   "metadata": {},
   "outputs": [],
   "source": [
    "import spacy\n",
    "nlp = spacy.load('en_core_web_sm')"
   ]
  },
  {
   "cell_type": "code",
   "execution_count": 3,
   "metadata": {},
   "outputs": [],
   "source": [
    "import nltk\n",
    "import numpy as np\n",
    "import pandas as pd"
   ]
  },
  {
   "cell_type": "code",
   "execution_count": 4,
   "metadata": {},
   "outputs": [],
   "source": [
    "from nltk.sentiment.vader import SentimentIntensityAnalyzer\n",
    "\n",
    "sid = SentimentIntensityAnalyzer()"
   ]
  },
  {
   "cell_type": "code",
   "execution_count": 5,
   "metadata": {},
   "outputs": [
    {
     "data": {
      "text/html": [
       "<div>\n",
       "<style scoped>\n",
       "    .dataframe tbody tr th:only-of-type {\n",
       "        vertical-align: middle;\n",
       "    }\n",
       "\n",
       "    .dataframe tbody tr th {\n",
       "        vertical-align: top;\n",
       "    }\n",
       "\n",
       "    .dataframe thead th {\n",
       "        text-align: right;\n",
       "    }\n",
       "</style>\n",
       "<table border=\"1\" class=\"dataframe\">\n",
       "  <thead>\n",
       "    <tr style=\"text-align: right;\">\n",
       "      <th></th>\n",
       "      <th>report</th>\n",
       "    </tr>\n",
       "  </thead>\n",
       "  <tbody>\n",
       "    <tr>\n",
       "      <th>0</th>\n",
       "      <td>World number one Ashleigh Barty confirmed she ...</td>\n",
       "    </tr>\n",
       "    <tr>\n",
       "      <th>1</th>\n",
       "      <td>SYDNEY (AP) — Top-ranked Ash Barty is set to l...</td>\n",
       "    </tr>\n",
       "    <tr>\n",
       "      <th>2</th>\n",
       "      <td>Top-ranked Ash Barty is set to lead Australia’...</td>\n",
       "    </tr>\n",
       "    <tr>\n",
       "      <th>3</th>\n",
       "      <td>The quarantine controversy over tennis' Austra...</td>\n",
       "    </tr>\n",
       "    <tr>\n",
       "      <th>4</th>\n",
       "      <td>Kyrgios, who retired from his third round matc...</td>\n",
       "    </tr>\n",
       "  </tbody>\n",
       "</table>\n",
       "</div>"
      ],
      "text/plain": [
       "                                              report\n",
       "0  World number one Ashleigh Barty confirmed she ...\n",
       "1  SYDNEY (AP) — Top-ranked Ash Barty is set to l...\n",
       "2  Top-ranked Ash Barty is set to lead Australia’...\n",
       "3  The quarantine controversy over tennis' Austra...\n",
       "4  Kyrgios, who retired from his third round matc..."
      ]
     },
     "execution_count": 5,
     "metadata": {},
     "output_type": "execute_result"
    }
   ],
   "source": [
    "df = pd.read_csv('Australian_tennis .tsv')\n",
    "df.head()"
   ]
  },
  {
   "cell_type": "code",
   "execution_count": 75,
   "metadata": {},
   "outputs": [],
   "source": [
    "df[\"SentimentScore\"] = df['report'].apply(lambda report: sid.polarity_scores(report))"
   ]
  },
  {
   "cell_type": "code",
   "execution_count": 76,
   "metadata": {},
   "outputs": [],
   "source": [
    "df['negative']  = df['SentimentScore'].apply(lambda score_dict: score_dict['neg'])\n",
    "df['neutral']  = df['SentimentScore'].apply(lambda score_dict: score_dict['neu'])\n",
    "df['positive']  = df['SentimentScore'].apply(lambda score_dict: score_dict['pos'])\n",
    "df['compound']  = df['SentimentScore'].apply(lambda score_dict: score_dict['compound'])\n"
   ]
  },
  {
   "cell_type": "code",
   "execution_count": 77,
   "metadata": {},
   "outputs": [
    {
     "data": {
      "text/html": [
       "<div>\n",
       "<style scoped>\n",
       "    .dataframe tbody tr th:only-of-type {\n",
       "        vertical-align: middle;\n",
       "    }\n",
       "\n",
       "    .dataframe tbody tr th {\n",
       "        vertical-align: top;\n",
       "    }\n",
       "\n",
       "    .dataframe thead th {\n",
       "        text-align: right;\n",
       "    }\n",
       "</style>\n",
       "<table border=\"1\" class=\"dataframe\">\n",
       "  <thead>\n",
       "    <tr style=\"text-align: right;\">\n",
       "      <th></th>\n",
       "      <th>report</th>\n",
       "      <th>SentimentScore</th>\n",
       "      <th>negative</th>\n",
       "      <th>neutral</th>\n",
       "      <th>positive</th>\n",
       "      <th>compound</th>\n",
       "    </tr>\n",
       "  </thead>\n",
       "  <tbody>\n",
       "    <tr>\n",
       "      <th>0</th>\n",
       "      <td>World number one Ashleigh Barty confirmed she ...</td>\n",
       "      <td>{'neg': 0.017, 'neu': 0.888, 'pos': 0.095, 'co...</td>\n",
       "      <td>0.017</td>\n",
       "      <td>0.888</td>\n",
       "      <td>0.095</td>\n",
       "      <td>0.9698</td>\n",
       "    </tr>\n",
       "    <tr>\n",
       "      <th>1</th>\n",
       "      <td>SYDNEY (AP) — Top-ranked Ash Barty is set to l...</td>\n",
       "      <td>{'neg': 0.039, 'neu': 0.845, 'pos': 0.115, 'co...</td>\n",
       "      <td>0.039</td>\n",
       "      <td>0.845</td>\n",
       "      <td>0.115</td>\n",
       "      <td>0.9812</td>\n",
       "    </tr>\n",
       "    <tr>\n",
       "      <th>2</th>\n",
       "      <td>Top-ranked Ash Barty is set to lead Australia’...</td>\n",
       "      <td>{'neg': 0.038, 'neu': 0.841, 'pos': 0.121, 'co...</td>\n",
       "      <td>0.038</td>\n",
       "      <td>0.841</td>\n",
       "      <td>0.121</td>\n",
       "      <td>0.9859</td>\n",
       "    </tr>\n",
       "    <tr>\n",
       "      <th>3</th>\n",
       "      <td>The quarantine controversy over tennis' Austra...</td>\n",
       "      <td>{'neg': 0.071, 'neu': 0.81, 'pos': 0.12, 'comp...</td>\n",
       "      <td>0.071</td>\n",
       "      <td>0.810</td>\n",
       "      <td>0.120</td>\n",
       "      <td>0.9835</td>\n",
       "    </tr>\n",
       "    <tr>\n",
       "      <th>4</th>\n",
       "      <td>Kyrgios, who retired from his third round matc...</td>\n",
       "      <td>{'neg': 0.078, 'neu': 0.88, 'pos': 0.042, 'com...</td>\n",
       "      <td>0.078</td>\n",
       "      <td>0.880</td>\n",
       "      <td>0.042</td>\n",
       "      <td>-0.8828</td>\n",
       "    </tr>\n",
       "    <tr>\n",
       "      <th>5</th>\n",
       "      <td>The Serb has now claimed three of a possible f...</td>\n",
       "      <td>{'neg': 0.044, 'neu': 0.858, 'pos': 0.097, 'co...</td>\n",
       "      <td>0.044</td>\n",
       "      <td>0.858</td>\n",
       "      <td>0.097</td>\n",
       "      <td>0.9575</td>\n",
       "    </tr>\n",
       "  </tbody>\n",
       "</table>\n",
       "</div>"
      ],
      "text/plain": [
       "                                              report  \\\n",
       "0  World number one Ashleigh Barty confirmed she ...   \n",
       "1  SYDNEY (AP) — Top-ranked Ash Barty is set to l...   \n",
       "2  Top-ranked Ash Barty is set to lead Australia’...   \n",
       "3  The quarantine controversy over tennis' Austra...   \n",
       "4  Kyrgios, who retired from his third round matc...   \n",
       "5  The Serb has now claimed three of a possible f...   \n",
       "\n",
       "                                      SentimentScore  negative  neutral  \\\n",
       "0  {'neg': 0.017, 'neu': 0.888, 'pos': 0.095, 'co...     0.017    0.888   \n",
       "1  {'neg': 0.039, 'neu': 0.845, 'pos': 0.115, 'co...     0.039    0.845   \n",
       "2  {'neg': 0.038, 'neu': 0.841, 'pos': 0.121, 'co...     0.038    0.841   \n",
       "3  {'neg': 0.071, 'neu': 0.81, 'pos': 0.12, 'comp...     0.071    0.810   \n",
       "4  {'neg': 0.078, 'neu': 0.88, 'pos': 0.042, 'com...     0.078    0.880   \n",
       "5  {'neg': 0.044, 'neu': 0.858, 'pos': 0.097, 'co...     0.044    0.858   \n",
       "\n",
       "   positive  compound  \n",
       "0     0.095    0.9698  \n",
       "1     0.115    0.9812  \n",
       "2     0.121    0.9859  \n",
       "3     0.120    0.9835  \n",
       "4     0.042   -0.8828  \n",
       "5     0.097    0.9575  "
      ]
     },
     "execution_count": 77,
     "metadata": {},
     "output_type": "execute_result"
    }
   ],
   "source": [
    "df"
   ]
  },
  {
   "cell_type": "code",
   "execution_count": 78,
   "metadata": {},
   "outputs": [],
   "source": [
    "df[\"Sentiment\"] =  df['compound'].apply(lambda x: 'neg' if x < 0  else('neut' if x == 0 else 'pos'))"
   ]
  },
  {
   "cell_type": "code",
   "execution_count": 79,
   "metadata": {},
   "outputs": [
    {
     "data": {
      "text/html": [
       "<div>\n",
       "<style scoped>\n",
       "    .dataframe tbody tr th:only-of-type {\n",
       "        vertical-align: middle;\n",
       "    }\n",
       "\n",
       "    .dataframe tbody tr th {\n",
       "        vertical-align: top;\n",
       "    }\n",
       "\n",
       "    .dataframe thead th {\n",
       "        text-align: right;\n",
       "    }\n",
       "</style>\n",
       "<table border=\"1\" class=\"dataframe\">\n",
       "  <thead>\n",
       "    <tr style=\"text-align: right;\">\n",
       "      <th></th>\n",
       "      <th>report</th>\n",
       "      <th>SentimentScore</th>\n",
       "      <th>negative</th>\n",
       "      <th>neutral</th>\n",
       "      <th>positive</th>\n",
       "      <th>compound</th>\n",
       "      <th>Sentiment</th>\n",
       "    </tr>\n",
       "  </thead>\n",
       "  <tbody>\n",
       "    <tr>\n",
       "      <th>0</th>\n",
       "      <td>World number one Ashleigh Barty confirmed she ...</td>\n",
       "      <td>{'neg': 0.017, 'neu': 0.888, 'pos': 0.095, 'co...</td>\n",
       "      <td>0.017</td>\n",
       "      <td>0.888</td>\n",
       "      <td>0.095</td>\n",
       "      <td>0.9698</td>\n",
       "      <td>pos</td>\n",
       "    </tr>\n",
       "    <tr>\n",
       "      <th>1</th>\n",
       "      <td>SYDNEY (AP) — Top-ranked Ash Barty is set to l...</td>\n",
       "      <td>{'neg': 0.039, 'neu': 0.845, 'pos': 0.115, 'co...</td>\n",
       "      <td>0.039</td>\n",
       "      <td>0.845</td>\n",
       "      <td>0.115</td>\n",
       "      <td>0.9812</td>\n",
       "      <td>pos</td>\n",
       "    </tr>\n",
       "    <tr>\n",
       "      <th>2</th>\n",
       "      <td>Top-ranked Ash Barty is set to lead Australia’...</td>\n",
       "      <td>{'neg': 0.038, 'neu': 0.841, 'pos': 0.121, 'co...</td>\n",
       "      <td>0.038</td>\n",
       "      <td>0.841</td>\n",
       "      <td>0.121</td>\n",
       "      <td>0.9859</td>\n",
       "      <td>pos</td>\n",
       "    </tr>\n",
       "    <tr>\n",
       "      <th>3</th>\n",
       "      <td>The quarantine controversy over tennis' Austra...</td>\n",
       "      <td>{'neg': 0.071, 'neu': 0.81, 'pos': 0.12, 'comp...</td>\n",
       "      <td>0.071</td>\n",
       "      <td>0.810</td>\n",
       "      <td>0.120</td>\n",
       "      <td>0.9835</td>\n",
       "      <td>pos</td>\n",
       "    </tr>\n",
       "    <tr>\n",
       "      <th>4</th>\n",
       "      <td>Kyrgios, who retired from his third round matc...</td>\n",
       "      <td>{'neg': 0.078, 'neu': 0.88, 'pos': 0.042, 'com...</td>\n",
       "      <td>0.078</td>\n",
       "      <td>0.880</td>\n",
       "      <td>0.042</td>\n",
       "      <td>-0.8828</td>\n",
       "      <td>neg</td>\n",
       "    </tr>\n",
       "    <tr>\n",
       "      <th>5</th>\n",
       "      <td>The Serb has now claimed three of a possible f...</td>\n",
       "      <td>{'neg': 0.044, 'neu': 0.858, 'pos': 0.097, 'co...</td>\n",
       "      <td>0.044</td>\n",
       "      <td>0.858</td>\n",
       "      <td>0.097</td>\n",
       "      <td>0.9575</td>\n",
       "      <td>pos</td>\n",
       "    </tr>\n",
       "  </tbody>\n",
       "</table>\n",
       "</div>"
      ],
      "text/plain": [
       "                                              report  \\\n",
       "0  World number one Ashleigh Barty confirmed she ...   \n",
       "1  SYDNEY (AP) — Top-ranked Ash Barty is set to l...   \n",
       "2  Top-ranked Ash Barty is set to lead Australia’...   \n",
       "3  The quarantine controversy over tennis' Austra...   \n",
       "4  Kyrgios, who retired from his third round matc...   \n",
       "5  The Serb has now claimed three of a possible f...   \n",
       "\n",
       "                                      SentimentScore  negative  neutral  \\\n",
       "0  {'neg': 0.017, 'neu': 0.888, 'pos': 0.095, 'co...     0.017    0.888   \n",
       "1  {'neg': 0.039, 'neu': 0.845, 'pos': 0.115, 'co...     0.039    0.845   \n",
       "2  {'neg': 0.038, 'neu': 0.841, 'pos': 0.121, 'co...     0.038    0.841   \n",
       "3  {'neg': 0.071, 'neu': 0.81, 'pos': 0.12, 'comp...     0.071    0.810   \n",
       "4  {'neg': 0.078, 'neu': 0.88, 'pos': 0.042, 'com...     0.078    0.880   \n",
       "5  {'neg': 0.044, 'neu': 0.858, 'pos': 0.097, 'co...     0.044    0.858   \n",
       "\n",
       "   positive  compound Sentiment  \n",
       "0     0.095    0.9698       pos  \n",
       "1     0.115    0.9812       pos  \n",
       "2     0.121    0.9859       pos  \n",
       "3     0.120    0.9835       pos  \n",
       "4     0.042   -0.8828       neg  \n",
       "5     0.097    0.9575       pos  "
      ]
     },
     "execution_count": 79,
     "metadata": {},
     "output_type": "execute_result"
    }
   ],
   "source": [
    "df"
   ]
  },
  {
   "cell_type": "code",
   "execution_count": 80,
   "metadata": {},
   "outputs": [
    {
     "data": {
      "text/plain": [
       "pos    5\n",
       "neg    1\n",
       "Name: Sentiment, dtype: int64"
      ]
     },
     "execution_count": 80,
     "metadata": {},
     "output_type": "execute_result"
    }
   ],
   "source": [
    "df['Sentiment'].value_counts()"
   ]
  },
  {
   "cell_type": "code",
   "execution_count": 6,
   "metadata": {},
   "outputs": [
    {
     "data": {
      "text/html": [
       "<div>\n",
       "<style scoped>\n",
       "    .dataframe tbody tr th:only-of-type {\n",
       "        vertical-align: middle;\n",
       "    }\n",
       "\n",
       "    .dataframe tbody tr th {\n",
       "        vertical-align: top;\n",
       "    }\n",
       "\n",
       "    .dataframe thead th {\n",
       "        text-align: right;\n",
       "    }\n",
       "</style>\n",
       "<table border=\"1\" class=\"dataframe\">\n",
       "  <thead>\n",
       "    <tr style=\"text-align: right;\">\n",
       "      <th></th>\n",
       "      <th>report</th>\n",
       "    </tr>\n",
       "  </thead>\n",
       "  <tbody>\n",
       "    <tr>\n",
       "      <th>0</th>\n",
       "      <td>World number one Ashleigh Barty confirmed she ...</td>\n",
       "    </tr>\n",
       "    <tr>\n",
       "      <th>1</th>\n",
       "      <td>SYDNEY (AP) — Top-ranked Ash Barty is set to l...</td>\n",
       "    </tr>\n",
       "    <tr>\n",
       "      <th>2</th>\n",
       "      <td>Top-ranked Ash Barty is set to lead Australia’...</td>\n",
       "    </tr>\n",
       "    <tr>\n",
       "      <th>3</th>\n",
       "      <td>The quarantine controversy over tennis' Austra...</td>\n",
       "    </tr>\n",
       "    <tr>\n",
       "      <th>4</th>\n",
       "      <td>Kyrgios, who retired from his third round matc...</td>\n",
       "    </tr>\n",
       "  </tbody>\n",
       "</table>\n",
       "</div>"
      ],
      "text/plain": [
       "                                              report\n",
       "0  World number one Ashleigh Barty confirmed she ...\n",
       "1  SYDNEY (AP) — Top-ranked Ash Barty is set to l...\n",
       "2  Top-ranked Ash Barty is set to lead Australia’...\n",
       "3  The quarantine controversy over tennis' Austra...\n",
       "4  Kyrgios, who retired from his third round matc..."
      ]
     },
     "execution_count": 6,
     "metadata": {},
     "output_type": "execute_result"
    }
   ],
   "source": [
    "df.head()"
   ]
  },
  {
   "cell_type": "code",
   "execution_count": 8,
   "metadata": {},
   "outputs": [],
   "source": [
    "from sklearn.feature_extraction.text import CountVectorizer\n",
    "cv = CountVectorizer(stop_words=\"english\", max_df=0.95, min_df=2)\n",
    "\n",
    "dtm = cv.fit_transform(df[\"report\"])"
   ]
  },
  {
   "cell_type": "code",
   "execution_count": 9,
   "metadata": {},
   "outputs": [],
   "source": [
    "from sklearn.decomposition import LatentDirichletAllocation\n",
    "\n",
    "LDA = LatentDirichletAllocation(n_components = 5, random_state = 1122)"
   ]
  },
  {
   "cell_type": "code",
   "execution_count": 12,
   "metadata": {},
   "outputs": [
    {
     "data": {
      "text/plain": [
       "array([0.20000369, 0.20000231, 0.20000225, 0.20000891, 0.20000369,\n",
       "       0.20000354, 0.20000231, 0.20000231, 0.20000601, 0.20000974,\n",
       "       0.20000369, 0.20000289, 0.20000231, 0.20000402, 0.20000446,\n",
       "       0.20000795, 0.20000463, 0.20000314, 0.20000231, 0.20000231,\n",
       "       0.20000351, 0.20000231, 0.20000232, 0.20000389, 0.20000403,\n",
       "       0.20000891, 0.20000231, 0.20000891, 0.20000231, 0.20000231,\n",
       "       0.20000513, 0.20000891, 0.20000879, 0.20000384, 0.20000225,\n",
       "       0.20000411, 0.20000389, 0.20000202, 0.20000605, 0.20000321,\n",
       "       0.20000492, 0.20000231, 0.20000231, 0.20000214, 0.20000605,\n",
       "       0.20000231, 0.2000062 , 0.20000231, 0.20000231, 0.20000231,\n",
       "       0.20000678, 0.20000231, 0.20000667, 0.20000354, 0.20000604,\n",
       "       0.20000231, 0.20000389, 0.20000214, 0.20000231, 0.20000232,\n",
       "       0.20000232, 0.20000354, 0.20000231, 0.20000369, 0.20000231,\n",
       "       0.20000482, 0.20000231, 0.20000636, 0.20000231, 0.2000037 ,\n",
       "       0.20000231, 0.20001173, 0.20000231, 0.20000351, 0.20000231,\n",
       "       0.20001024, 0.20000861, 0.20000231, 0.20000513, 0.20000232,\n",
       "       0.20000482, 0.20000605, 0.20000354, 0.20000231, 0.20000482,\n",
       "       0.20000369, 0.20000231, 0.20000337, 0.20000231, 0.20000561,\n",
       "       0.20000351, 0.20000341, 0.20000231, 0.20000231, 0.20000369,\n",
       "       0.20000231, 0.20000743, 0.20000403, 0.20000513, 0.20000743,\n",
       "       0.20000662, 0.20000571, 0.20000513, 0.20000369, 0.20000232,\n",
       "       0.20000231, 0.20000329, 0.20000231, 0.20000592, 0.20001035,\n",
       "       0.20000231, 0.20000369, 0.20001003, 0.20000231, 0.20000369,\n",
       "       0.20000369, 0.20000214, 0.20000549, 0.20000231, 0.20000446,\n",
       "       0.20000354, 0.20000354, 0.20000231, 0.20001003, 0.20000891,\n",
       "       0.20000231, 0.20000371, 0.20000369, 0.20000369, 0.20000231,\n",
       "       0.20000446, 0.20000463, 0.20000214, 0.20000231, 0.2000062 ,\n",
       "       0.20000231, 0.20000558, 0.20000231, 0.20000891, 0.20000369,\n",
       "       0.20000231, 0.20000231, 0.20000222, 0.20000354, 0.20000231,\n",
       "       0.20000353, 0.20000341, 0.20000369, 0.20000231, 0.20000544,\n",
       "       0.20000605, 0.20000482, 0.20000998, 0.20000231, 0.20000369,\n",
       "       0.20000231, 0.20000214, 0.20000369, 0.20000231, 0.20000231,\n",
       "       0.2000062 , 0.20000588, 0.20000599, 0.20000371, 0.20001035,\n",
       "       0.20000231, 0.20000447])"
      ]
     },
     "execution_count": 12,
     "metadata": {},
     "output_type": "execute_result"
    }
   ],
   "source": [
    "LDA.components_[0]"
   ]
  },
  {
   "cell_type": "code",
   "execution_count": 11,
   "metadata": {},
   "outputs": [
    {
     "data": {
      "text/plain": [
       "LatentDirichletAllocation(n_components=5, random_state=1122)"
      ]
     },
     "execution_count": 11,
     "metadata": {},
     "output_type": "execute_result"
    }
   ],
   "source": [
    "LDA.fit(dtm)"
   ]
  },
  {
   "cell_type": "code",
   "execution_count": 14,
   "metadata": {},
   "outputs": [],
   "source": [
    "single_topic = LDA.components_[0]"
   ]
  },
  {
   "cell_type": "code",
   "execution_count": 15,
   "metadata": {},
   "outputs": [
    {
     "data": {
      "text/plain": [
       "array([124,  27,   9, 152, 112, 123,  75, 109, 164,  71], dtype=int64)"
      ]
     },
     "execution_count": 15,
     "metadata": {},
     "output_type": "execute_result"
    }
   ],
   "source": [
    "top_10_w = single_topic.argsort()[-10: ]\n",
    "top_10_w"
   ]
  },
  {
   "cell_type": "code",
   "execution_count": 16,
   "metadata": {},
   "outputs": [
    {
     "name": "stdout",
     "output_type": "stream",
     "text": [
      "rio\n",
      "confirmed\n",
      "ahead\n",
      "tournament\n",
      "pulled\n",
      "right\n",
      "just\n",
      "post\n",
      "wouldn\n",
      "international\n"
     ]
    }
   ],
   "source": [
    "for index in top_10_w:\n",
    "    print(cv.get_feature_names()[index])"
   ]
  },
  {
   "cell_type": "code",
   "execution_count": 18,
   "metadata": {},
   "outputs": [
    {
     "name": "stdout",
     "output_type": "stream",
     "text": [
      "TOP TEN WORDS OF THE TOPIC #0\n",
      "['french', 'nick', 'olympic', 'australia', 'kyrgios', 'covid', 'country', 'competing', '2016', 'skipping', 'rio', 'confirmed', 'ahead', 'tournament', 'pulled', 'right', 'just', 'post', 'wouldn', 'international']\n",
      "\n",
      "\n",
      "TOP TEN WORDS OF THE TOPIC #1\n",
      "['including', 'season', 'barred', 'second', 'able', 'australia', 'just', 'tournament', '19', 'days', 'year', 'covid', 'state', 'going', 'games', 'athletes', 'restrictions', 'ahead', 'djokovic', 'players']\n",
      "\n",
      "\n",
      "TOP TEN WORDS OF THE TOPIC #2\n",
      "['country', 'confirmed', 'international', 'play', 'team', 'millman', 'john', 'champion', 'world', 'number', 'compete', 'men', 'olympic', 'doubles', 'singles', 'kyrgios', 'minaur', 'stosur', 'games', 'barty']\n",
      "\n",
      "\n",
      "TOP TEN WORDS OF THE TOPIC #3\n",
      "['storm', 'excited', 'selected', 've', 'green', 'really', 'opportunity', 'gold', 'announced', 'french', 'pandemic', 'doubles', 'play', 'match', 'wimbledon', 'won', 'round', 'kyrgios', 'barty', 'team']\n",
      "\n",
      "\n",
      "TOP TEN WORDS OF THE TOPIC #4\n",
      "['french', 'nick', 'olympic', 'australia', 'kyrgios', 'covid', 'country', 'competing', '2016', 'skipping', 'rio', 'confirmed', 'ahead', 'tournament', 'pulled', 'right', 'just', 'post', 'wouldn', 'international']\n",
      "\n",
      "\n"
     ]
    }
   ],
   "source": [
    "for i in range(5):\n",
    "    \n",
    "    index = LDA.components_[i].argsort()[-20:]\n",
    "    print(f\"TOP TEN WORDS OF THE TOPIC #{i}\")\n",
    "    print([cv.get_feature_names()[j] for j in index])\n",
    "    print(\"\\n\")"
   ]
  },
  {
   "cell_type": "code",
   "execution_count": 22,
   "metadata": {},
   "outputs": [
    {
     "data": {
      "text/plain": [
       "'World number one Ashleigh Barty confirmed she will compete at the Tokyo Olympics Tuesday, headlining an 11-strong Australian tennis team for the Games that includes firebrand Nick Kyrgios.\\n\\nBarty\\'s announcement comes just a day after four-time gold medallist Serena Williams revealed she would be skipping the Games, which will also be without Spanish great Rafael Nadal.\\n\\nThe 2019 French Open champion Barty, 25, said she intended to compete in both singles and doubles at the Games, adding \"I can\\'t wait to be a part of it\".\\n\\n\"Competing in an Olympic Games is always a dream as young kids you aspire to,\" she said.\\n\\nThe Australia team comprises six men and five women, including former US Open champion Sam Stosur who will be going to her fifth Olympic Games at the age of 37.\\n\\nWorld number 15 Alex de Minaur is the top-ranked Australian man, with the volatile Kyrgios likely to be one of the highest profile male players in the draw, despite his modest ranking of 60.\\n\\nBoth will play singles with De Minaur also featuring in the doubles.In contrast to veteran Stosur, Barty De Minaur and Kyrgios will all be making their Olympic debuts in Tokyo.\\n\\n\"It\\'s super special being able to represent your country in one Olympics let alone five,\" said Stosur, who also competed at Athens 2004, Beijing 2008, London 2012 and Rio 2016.\\n\\nStosur and Barty are joined by Ajla Tomljanovic in the women\\'s singles, with Barty teaming up with Storm Sanders in the women\\'s doubles and Stosur with Ellen Perez.\\n\\nJohn Millman and James Duckworth join Kyrgios and De Minaur, who won the Eastbourne International last week, in the men\\'s singles.\\n\\nMillman will partner Luke Saville and John Peers will play with De Minaur in the men\\'s doubles.'"
      ]
     },
     "execution_count": 22,
     "metadata": {},
     "output_type": "execute_result"
    }
   ],
   "source": [
    "df[\"report\"][0]"
   ]
  },
  {
   "cell_type": "code",
   "execution_count": null,
   "metadata": {},
   "outputs": [],
   "source": []
  }
 ],
 "metadata": {
  "kernelspec": {
   "display_name": "Python 3",
   "language": "python",
   "name": "python3"
  },
  "language_info": {
   "codemirror_mode": {
    "name": "ipython",
    "version": 3
   },
   "file_extension": ".py",
   "mimetype": "text/x-python",
   "name": "python",
   "nbconvert_exporter": "python",
   "pygments_lexer": "ipython3",
   "version": "3.8.5"
  }
 },
 "nbformat": 4,
 "nbformat_minor": 4
}
