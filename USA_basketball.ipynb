{
 "cells": [
  {
   "cell_type": "code",
   "execution_count": 1,
   "metadata": {},
   "outputs": [],
   "source": [
    "import nltk\n",
    "import numpy as np\n",
    "import pandas as pd"
   ]
  },
  {
   "cell_type": "code",
   "execution_count": 2,
   "metadata": {},
   "outputs": [],
   "source": [
    "from nltk.sentiment.vader import SentimentIntensityAnalyzer\n",
    "\n",
    "sid = SentimentIntensityAnalyzer()"
   ]
  },
  {
   "cell_type": "code",
   "execution_count": 3,
   "metadata": {},
   "outputs": [
    {
     "data": {
      "text/html": [
       "<div>\n",
       "<style scoped>\n",
       "    .dataframe tbody tr th:only-of-type {\n",
       "        vertical-align: middle;\n",
       "    }\n",
       "\n",
       "    .dataframe tbody tr th {\n",
       "        vertical-align: top;\n",
       "    }\n",
       "\n",
       "    .dataframe thead th {\n",
       "        text-align: right;\n",
       "    }\n",
       "</style>\n",
       "<table border=\"1\" class=\"dataframe\">\n",
       "  <thead>\n",
       "    <tr style=\"text-align: right;\">\n",
       "      <th></th>\n",
       "      <th>report</th>\n",
       "    </tr>\n",
       "  </thead>\n",
       "  <tbody>\n",
       "    <tr>\n",
       "      <th>0</th>\n",
       "      <td>TOKYO — The indisputable reality of the U.S. m...</td>\n",
       "    </tr>\n",
       "    <tr>\n",
       "      <th>1</th>\n",
       "      <td>Selected for the U.S. Olympic Team 2020, which...</td>\n",
       "    </tr>\n",
       "    <tr>\n",
       "      <th>2</th>\n",
       "      <td>“USA Basketball selects players to represent o...</td>\n",
       "    </tr>\n",
       "    <tr>\n",
       "      <th>3</th>\n",
       "      <td>Tokyo Olympic Games 2020\\nThe rescheduled Summ...</td>\n",
       "    </tr>\n",
       "    <tr>\n",
       "      <th>4</th>\n",
       "      <td>A pre-Olympic bubble in Las Vegas for the Unti...</td>\n",
       "    </tr>\n",
       "  </tbody>\n",
       "</table>\n",
       "</div>"
      ],
      "text/plain": [
       "                                              report\n",
       "0  TOKYO — The indisputable reality of the U.S. m...\n",
       "1  Selected for the U.S. Olympic Team 2020, which...\n",
       "2  “USA Basketball selects players to represent o...\n",
       "3  Tokyo Olympic Games 2020\\nThe rescheduled Summ...\n",
       "4  A pre-Olympic bubble in Las Vegas for the Unti..."
      ]
     },
     "execution_count": 3,
     "metadata": {},
     "output_type": "execute_result"
    }
   ],
   "source": [
    "df = pd.read_csv('USA_Basketball.tsv')\n",
    "df.head()"
   ]
  },
  {
   "cell_type": "code",
   "execution_count": 4,
   "metadata": {},
   "outputs": [],
   "source": [
    "df[\"SentimentScore\"] = df['report'].apply(lambda report: sid.polarity_scores(report))"
   ]
  },
  {
   "cell_type": "code",
   "execution_count": 5,
   "metadata": {},
   "outputs": [],
   "source": [
    "df['negative']  = df['SentimentScore'].apply(lambda score_dict: score_dict['neg'])\n",
    "df['neutral']  = df['SentimentScore'].apply(lambda score_dict: score_dict['neu'])\n",
    "df['positive']  = df['SentimentScore'].apply(lambda score_dict: score_dict['pos'])\n",
    "df['compound']  = df['SentimentScore'].apply(lambda score_dict: score_dict['compound'])\n"
   ]
  },
  {
   "cell_type": "code",
   "execution_count": 6,
   "metadata": {},
   "outputs": [
    {
     "data": {
      "text/html": [
       "<div>\n",
       "<style scoped>\n",
       "    .dataframe tbody tr th:only-of-type {\n",
       "        vertical-align: middle;\n",
       "    }\n",
       "\n",
       "    .dataframe tbody tr th {\n",
       "        vertical-align: top;\n",
       "    }\n",
       "\n",
       "    .dataframe thead th {\n",
       "        text-align: right;\n",
       "    }\n",
       "</style>\n",
       "<table border=\"1\" class=\"dataframe\">\n",
       "  <thead>\n",
       "    <tr style=\"text-align: right;\">\n",
       "      <th></th>\n",
       "      <th>report</th>\n",
       "      <th>SentimentScore</th>\n",
       "      <th>negative</th>\n",
       "      <th>neutral</th>\n",
       "      <th>positive</th>\n",
       "      <th>compound</th>\n",
       "    </tr>\n",
       "  </thead>\n",
       "  <tbody>\n",
       "    <tr>\n",
       "      <th>0</th>\n",
       "      <td>TOKYO — The indisputable reality of the U.S. m...</td>\n",
       "      <td>{'neg': 0.09, 'neu': 0.791, 'pos': 0.119, 'com...</td>\n",
       "      <td>0.090</td>\n",
       "      <td>0.791</td>\n",
       "      <td>0.119</td>\n",
       "      <td>0.9905</td>\n",
       "    </tr>\n",
       "    <tr>\n",
       "      <th>1</th>\n",
       "      <td>Selected for the U.S. Olympic Team 2020, which...</td>\n",
       "      <td>{'neg': 0.0, 'neu': 0.86, 'pos': 0.14, 'compou...</td>\n",
       "      <td>0.000</td>\n",
       "      <td>0.860</td>\n",
       "      <td>0.140</td>\n",
       "      <td>0.9940</td>\n",
       "    </tr>\n",
       "    <tr>\n",
       "      <th>2</th>\n",
       "      <td>“USA Basketball selects players to represent o...</td>\n",
       "      <td>{'neg': 0.009, 'neu': 0.894, 'pos': 0.097, 'co...</td>\n",
       "      <td>0.009</td>\n",
       "      <td>0.894</td>\n",
       "      <td>0.097</td>\n",
       "      <td>0.9938</td>\n",
       "    </tr>\n",
       "    <tr>\n",
       "      <th>3</th>\n",
       "      <td>Tokyo Olympic Games 2020\\nThe rescheduled Summ...</td>\n",
       "      <td>{'neg': 0.0, 'neu': 0.855, 'pos': 0.145, 'comp...</td>\n",
       "      <td>0.000</td>\n",
       "      <td>0.855</td>\n",
       "      <td>0.145</td>\n",
       "      <td>0.9965</td>\n",
       "    </tr>\n",
       "    <tr>\n",
       "      <th>4</th>\n",
       "      <td>A pre-Olympic bubble in Las Vegas for the Unti...</td>\n",
       "      <td>{'neg': 0.0, 'neu': 0.929, 'pos': 0.071, 'comp...</td>\n",
       "      <td>0.000</td>\n",
       "      <td>0.929</td>\n",
       "      <td>0.071</td>\n",
       "      <td>0.9750</td>\n",
       "    </tr>\n",
       "  </tbody>\n",
       "</table>\n",
       "</div>"
      ],
      "text/plain": [
       "                                              report  \\\n",
       "0  TOKYO — The indisputable reality of the U.S. m...   \n",
       "1  Selected for the U.S. Olympic Team 2020, which...   \n",
       "2  “USA Basketball selects players to represent o...   \n",
       "3  Tokyo Olympic Games 2020\\nThe rescheduled Summ...   \n",
       "4  A pre-Olympic bubble in Las Vegas for the Unti...   \n",
       "\n",
       "                                      SentimentScore  negative  neutral  \\\n",
       "0  {'neg': 0.09, 'neu': 0.791, 'pos': 0.119, 'com...     0.090    0.791   \n",
       "1  {'neg': 0.0, 'neu': 0.86, 'pos': 0.14, 'compou...     0.000    0.860   \n",
       "2  {'neg': 0.009, 'neu': 0.894, 'pos': 0.097, 'co...     0.009    0.894   \n",
       "3  {'neg': 0.0, 'neu': 0.855, 'pos': 0.145, 'comp...     0.000    0.855   \n",
       "4  {'neg': 0.0, 'neu': 0.929, 'pos': 0.071, 'comp...     0.000    0.929   \n",
       "\n",
       "   positive  compound  \n",
       "0     0.119    0.9905  \n",
       "1     0.140    0.9940  \n",
       "2     0.097    0.9938  \n",
       "3     0.145    0.9965  \n",
       "4     0.071    0.9750  "
      ]
     },
     "execution_count": 6,
     "metadata": {},
     "output_type": "execute_result"
    }
   ],
   "source": [
    "df"
   ]
  },
  {
   "cell_type": "code",
   "execution_count": 7,
   "metadata": {},
   "outputs": [],
   "source": [
    "df[\"Sentiment\"] =  df['compound'].apply(lambda x: 'neg' if x < 0  else('neut' if x == 0 else 'pos'))"
   ]
  },
  {
   "cell_type": "code",
   "execution_count": 8,
   "metadata": {},
   "outputs": [
    {
     "data": {
      "text/html": [
       "<div>\n",
       "<style scoped>\n",
       "    .dataframe tbody tr th:only-of-type {\n",
       "        vertical-align: middle;\n",
       "    }\n",
       "\n",
       "    .dataframe tbody tr th {\n",
       "        vertical-align: top;\n",
       "    }\n",
       "\n",
       "    .dataframe thead th {\n",
       "        text-align: right;\n",
       "    }\n",
       "</style>\n",
       "<table border=\"1\" class=\"dataframe\">\n",
       "  <thead>\n",
       "    <tr style=\"text-align: right;\">\n",
       "      <th></th>\n",
       "      <th>report</th>\n",
       "      <th>SentimentScore</th>\n",
       "      <th>negative</th>\n",
       "      <th>neutral</th>\n",
       "      <th>positive</th>\n",
       "      <th>compound</th>\n",
       "      <th>Sentiment</th>\n",
       "    </tr>\n",
       "  </thead>\n",
       "  <tbody>\n",
       "    <tr>\n",
       "      <th>0</th>\n",
       "      <td>TOKYO — The indisputable reality of the U.S. m...</td>\n",
       "      <td>{'neg': 0.09, 'neu': 0.791, 'pos': 0.119, 'com...</td>\n",
       "      <td>0.090</td>\n",
       "      <td>0.791</td>\n",
       "      <td>0.119</td>\n",
       "      <td>0.9905</td>\n",
       "      <td>pos</td>\n",
       "    </tr>\n",
       "    <tr>\n",
       "      <th>1</th>\n",
       "      <td>Selected for the U.S. Olympic Team 2020, which...</td>\n",
       "      <td>{'neg': 0.0, 'neu': 0.86, 'pos': 0.14, 'compou...</td>\n",
       "      <td>0.000</td>\n",
       "      <td>0.860</td>\n",
       "      <td>0.140</td>\n",
       "      <td>0.9940</td>\n",
       "      <td>pos</td>\n",
       "    </tr>\n",
       "    <tr>\n",
       "      <th>2</th>\n",
       "      <td>“USA Basketball selects players to represent o...</td>\n",
       "      <td>{'neg': 0.009, 'neu': 0.894, 'pos': 0.097, 'co...</td>\n",
       "      <td>0.009</td>\n",
       "      <td>0.894</td>\n",
       "      <td>0.097</td>\n",
       "      <td>0.9938</td>\n",
       "      <td>pos</td>\n",
       "    </tr>\n",
       "    <tr>\n",
       "      <th>3</th>\n",
       "      <td>Tokyo Olympic Games 2020\\nThe rescheduled Summ...</td>\n",
       "      <td>{'neg': 0.0, 'neu': 0.855, 'pos': 0.145, 'comp...</td>\n",
       "      <td>0.000</td>\n",
       "      <td>0.855</td>\n",
       "      <td>0.145</td>\n",
       "      <td>0.9965</td>\n",
       "      <td>pos</td>\n",
       "    </tr>\n",
       "    <tr>\n",
       "      <th>4</th>\n",
       "      <td>A pre-Olympic bubble in Las Vegas for the Unti...</td>\n",
       "      <td>{'neg': 0.0, 'neu': 0.929, 'pos': 0.071, 'comp...</td>\n",
       "      <td>0.000</td>\n",
       "      <td>0.929</td>\n",
       "      <td>0.071</td>\n",
       "      <td>0.9750</td>\n",
       "      <td>pos</td>\n",
       "    </tr>\n",
       "  </tbody>\n",
       "</table>\n",
       "</div>"
      ],
      "text/plain": [
       "                                              report  \\\n",
       "0  TOKYO — The indisputable reality of the U.S. m...   \n",
       "1  Selected for the U.S. Olympic Team 2020, which...   \n",
       "2  “USA Basketball selects players to represent o...   \n",
       "3  Tokyo Olympic Games 2020\\nThe rescheduled Summ...   \n",
       "4  A pre-Olympic bubble in Las Vegas for the Unti...   \n",
       "\n",
       "                                      SentimentScore  negative  neutral  \\\n",
       "0  {'neg': 0.09, 'neu': 0.791, 'pos': 0.119, 'com...     0.090    0.791   \n",
       "1  {'neg': 0.0, 'neu': 0.86, 'pos': 0.14, 'compou...     0.000    0.860   \n",
       "2  {'neg': 0.009, 'neu': 0.894, 'pos': 0.097, 'co...     0.009    0.894   \n",
       "3  {'neg': 0.0, 'neu': 0.855, 'pos': 0.145, 'comp...     0.000    0.855   \n",
       "4  {'neg': 0.0, 'neu': 0.929, 'pos': 0.071, 'comp...     0.000    0.929   \n",
       "\n",
       "   positive  compound Sentiment  \n",
       "0     0.119    0.9905       pos  \n",
       "1     0.140    0.9940       pos  \n",
       "2     0.097    0.9938       pos  \n",
       "3     0.145    0.9965       pos  \n",
       "4     0.071    0.9750       pos  "
      ]
     },
     "execution_count": 8,
     "metadata": {},
     "output_type": "execute_result"
    }
   ],
   "source": [
    "df"
   ]
  },
  {
   "cell_type": "code",
   "execution_count": 9,
   "metadata": {},
   "outputs": [
    {
     "data": {
      "text/plain": [
       "pos    5\n",
       "Name: Sentiment, dtype: int64"
      ]
     },
     "execution_count": 9,
     "metadata": {},
     "output_type": "execute_result"
    }
   ],
   "source": [
    "df['Sentiment'].value_counts()"
   ]
  }
 ],
 "metadata": {
  "kernelspec": {
   "display_name": "Python 3",
   "language": "python",
   "name": "python3"
  },
  "language_info": {
   "codemirror_mode": {
    "name": "ipython",
    "version": 3
   },
   "file_extension": ".py",
   "mimetype": "text/x-python",
   "name": "python",
   "nbconvert_exporter": "python",
   "pygments_lexer": "ipython3",
   "version": "3.8.5"
  }
 },
 "nbformat": 4,
 "nbformat_minor": 4
}
