{
 "cells": [
  {
   "cell_type": "code",
   "execution_count": 1,
   "metadata": {},
   "outputs": [],
   "source": [
    "import spacy\n",
    "nlp = spacy.load('en_core_web_sm')"
   ]
  },
  {
   "cell_type": "code",
   "execution_count": 2,
   "metadata": {},
   "outputs": [],
   "source": [
    "import nltk\n",
    "import numpy as np\n",
    "import pandas as pd"
   ]
  },
  {
   "cell_type": "code",
   "execution_count": 3,
   "metadata": {},
   "outputs": [],
   "source": [
    "from nltk.sentiment.vader import SentimentIntensityAnalyzer\n",
    "\n",
    "sid = SentimentIntensityAnalyzer()"
   ]
  },
  {
   "cell_type": "code",
   "execution_count": 4,
   "metadata": {},
   "outputs": [
    {
     "data": {
      "text/html": [
       "<div>\n",
       "<style scoped>\n",
       "    .dataframe tbody tr th:only-of-type {\n",
       "        vertical-align: middle;\n",
       "    }\n",
       "\n",
       "    .dataframe tbody tr th {\n",
       "        vertical-align: top;\n",
       "    }\n",
       "\n",
       "    .dataframe thead th {\n",
       "        text-align: right;\n",
       "    }\n",
       "</style>\n",
       "<table border=\"1\" class=\"dataframe\">\n",
       "  <thead>\n",
       "    <tr style=\"text-align: right;\">\n",
       "      <th></th>\n",
       "      <th>report</th>\n",
       "    </tr>\n",
       "  </thead>\n",
       "  <tbody>\n",
       "    <tr>\n",
       "      <th>0</th>\n",
       "      <td>Great Britain’s dreams of qualifying a men’s t...</td>\n",
       "    </tr>\n",
       "    <tr>\n",
       "      <th>1</th>\n",
       "      <td>After a year’s delay, the Olympics 2020 are he...</td>\n",
       "    </tr>\n",
       "    <tr>\n",
       "      <th>2</th>\n",
       "      <td>Defending Paralympic champions Will Bayley and...</td>\n",
       "    </tr>\n",
       "    <tr>\n",
       "      <th>3</th>\n",
       "      <td>Liam Pitchford will compete at his third Olymp...</td>\n",
       "    </tr>\n",
       "    <tr>\n",
       "      <th>4</th>\n",
       "      <td>Defending Paralympic champions Will Bayley and...</td>\n",
       "    </tr>\n",
       "  </tbody>\n",
       "</table>\n",
       "</div>"
      ],
      "text/plain": [
       "                                              report\n",
       "0  Great Britain’s dreams of qualifying a men’s t...\n",
       "1  After a year’s delay, the Olympics 2020 are he...\n",
       "2  Defending Paralympic champions Will Bayley and...\n",
       "3  Liam Pitchford will compete at his third Olymp...\n",
       "4  Defending Paralympic champions Will Bayley and..."
      ]
     },
     "execution_count": 4,
     "metadata": {},
     "output_type": "execute_result"
    }
   ],
   "source": [
    "df = pd.read_csv('Grait_Britain_1.tsv')\n",
    "df.head()"
   ]
  },
  {
   "cell_type": "code",
   "execution_count": 5,
   "metadata": {},
   "outputs": [],
   "source": [
    "df[\"SentimentScore\"] = df['report'].apply(lambda report: sid.polarity_scores(report))"
   ]
  },
  {
   "cell_type": "code",
   "execution_count": 6,
   "metadata": {},
   "outputs": [],
   "source": [
    "df['negative']  = df['SentimentScore'].apply(lambda score_dict: score_dict['neg'])\n",
    "df['neutral']  = df['SentimentScore'].apply(lambda score_dict: score_dict['neu'])\n",
    "df['positive']  = df['SentimentScore'].apply(lambda score_dict: score_dict['pos'])\n",
    "df['compound']  = df['SentimentScore'].apply(lambda score_dict: score_dict['compound'])\n"
   ]
  },
  {
   "cell_type": "code",
   "execution_count": 7,
   "metadata": {},
   "outputs": [
    {
     "data": {
      "text/html": [
       "<div>\n",
       "<style scoped>\n",
       "    .dataframe tbody tr th:only-of-type {\n",
       "        vertical-align: middle;\n",
       "    }\n",
       "\n",
       "    .dataframe tbody tr th {\n",
       "        vertical-align: top;\n",
       "    }\n",
       "\n",
       "    .dataframe thead th {\n",
       "        text-align: right;\n",
       "    }\n",
       "</style>\n",
       "<table border=\"1\" class=\"dataframe\">\n",
       "  <thead>\n",
       "    <tr style=\"text-align: right;\">\n",
       "      <th></th>\n",
       "      <th>report</th>\n",
       "      <th>SentimentScore</th>\n",
       "      <th>negative</th>\n",
       "      <th>neutral</th>\n",
       "      <th>positive</th>\n",
       "      <th>compound</th>\n",
       "    </tr>\n",
       "  </thead>\n",
       "  <tbody>\n",
       "    <tr>\n",
       "      <th>0</th>\n",
       "      <td>Great Britain’s dreams of qualifying a men’s t...</td>\n",
       "      <td>{'neg': 0.056, 'neu': 0.797, 'pos': 0.146, 'co...</td>\n",
       "      <td>0.056</td>\n",
       "      <td>0.797</td>\n",
       "      <td>0.146</td>\n",
       "      <td>0.9956</td>\n",
       "    </tr>\n",
       "    <tr>\n",
       "      <th>1</th>\n",
       "      <td>After a year’s delay, the Olympics 2020 are he...</td>\n",
       "      <td>{'neg': 0.023, 'neu': 0.915, 'pos': 0.062, 'co...</td>\n",
       "      <td>0.023</td>\n",
       "      <td>0.915</td>\n",
       "      <td>0.062</td>\n",
       "      <td>0.9628</td>\n",
       "    </tr>\n",
       "    <tr>\n",
       "      <th>2</th>\n",
       "      <td>Defending Paralympic champions Will Bayley and...</td>\n",
       "      <td>{'neg': 0.012, 'neu': 0.866, 'pos': 0.122, 'co...</td>\n",
       "      <td>0.012</td>\n",
       "      <td>0.866</td>\n",
       "      <td>0.122</td>\n",
       "      <td>0.9844</td>\n",
       "    </tr>\n",
       "    <tr>\n",
       "      <th>3</th>\n",
       "      <td>Liam Pitchford will compete at his third Olymp...</td>\n",
       "      <td>{'neg': 0.016, 'neu': 0.816, 'pos': 0.169, 'co...</td>\n",
       "      <td>0.016</td>\n",
       "      <td>0.816</td>\n",
       "      <td>0.169</td>\n",
       "      <td>0.9988</td>\n",
       "    </tr>\n",
       "    <tr>\n",
       "      <th>4</th>\n",
       "      <td>Defending Paralympic champions Will Bayley and...</td>\n",
       "      <td>{'neg': 0.021, 'neu': 0.89, 'pos': 0.089, 'com...</td>\n",
       "      <td>0.021</td>\n",
       "      <td>0.890</td>\n",
       "      <td>0.089</td>\n",
       "      <td>0.8885</td>\n",
       "    </tr>\n",
       "    <tr>\n",
       "      <th>5</th>\n",
       "      <td>After a series of injuries, surgeries and some...</td>\n",
       "      <td>{'neg': 0.045, 'neu': 0.83, 'pos': 0.126, 'com...</td>\n",
       "      <td>0.045</td>\n",
       "      <td>0.830</td>\n",
       "      <td>0.126</td>\n",
       "      <td>0.9694</td>\n",
       "    </tr>\n",
       "  </tbody>\n",
       "</table>\n",
       "</div>"
      ],
      "text/plain": [
       "                                              report  \\\n",
       "0  Great Britain’s dreams of qualifying a men’s t...   \n",
       "1  After a year’s delay, the Olympics 2020 are he...   \n",
       "2  Defending Paralympic champions Will Bayley and...   \n",
       "3  Liam Pitchford will compete at his third Olymp...   \n",
       "4  Defending Paralympic champions Will Bayley and...   \n",
       "5  After a series of injuries, surgeries and some...   \n",
       "\n",
       "                                      SentimentScore  negative  neutral  \\\n",
       "0  {'neg': 0.056, 'neu': 0.797, 'pos': 0.146, 'co...     0.056    0.797   \n",
       "1  {'neg': 0.023, 'neu': 0.915, 'pos': 0.062, 'co...     0.023    0.915   \n",
       "2  {'neg': 0.012, 'neu': 0.866, 'pos': 0.122, 'co...     0.012    0.866   \n",
       "3  {'neg': 0.016, 'neu': 0.816, 'pos': 0.169, 'co...     0.016    0.816   \n",
       "4  {'neg': 0.021, 'neu': 0.89, 'pos': 0.089, 'com...     0.021    0.890   \n",
       "5  {'neg': 0.045, 'neu': 0.83, 'pos': 0.126, 'com...     0.045    0.830   \n",
       "\n",
       "   positive  compound  \n",
       "0     0.146    0.9956  \n",
       "1     0.062    0.9628  \n",
       "2     0.122    0.9844  \n",
       "3     0.169    0.9988  \n",
       "4     0.089    0.8885  \n",
       "5     0.126    0.9694  "
      ]
     },
     "execution_count": 7,
     "metadata": {},
     "output_type": "execute_result"
    }
   ],
   "source": [
    "df"
   ]
  },
  {
   "cell_type": "code",
   "execution_count": 8,
   "metadata": {},
   "outputs": [],
   "source": [
    "df[\"Sentiment\"] =  df['compound'].apply(lambda x: 'neg' if x < 0  else('neut' if x == 0 else 'pos'))"
   ]
  },
  {
   "cell_type": "code",
   "execution_count": 9,
   "metadata": {},
   "outputs": [
    {
     "data": {
      "text/html": [
       "<div>\n",
       "<style scoped>\n",
       "    .dataframe tbody tr th:only-of-type {\n",
       "        vertical-align: middle;\n",
       "    }\n",
       "\n",
       "    .dataframe tbody tr th {\n",
       "        vertical-align: top;\n",
       "    }\n",
       "\n",
       "    .dataframe thead th {\n",
       "        text-align: right;\n",
       "    }\n",
       "</style>\n",
       "<table border=\"1\" class=\"dataframe\">\n",
       "  <thead>\n",
       "    <tr style=\"text-align: right;\">\n",
       "      <th></th>\n",
       "      <th>report</th>\n",
       "      <th>SentimentScore</th>\n",
       "      <th>negative</th>\n",
       "      <th>neutral</th>\n",
       "      <th>positive</th>\n",
       "      <th>compound</th>\n",
       "      <th>Sentiment</th>\n",
       "    </tr>\n",
       "  </thead>\n",
       "  <tbody>\n",
       "    <tr>\n",
       "      <th>0</th>\n",
       "      <td>Great Britain’s dreams of qualifying a men’s t...</td>\n",
       "      <td>{'neg': 0.056, 'neu': 0.797, 'pos': 0.146, 'co...</td>\n",
       "      <td>0.056</td>\n",
       "      <td>0.797</td>\n",
       "      <td>0.146</td>\n",
       "      <td>0.9956</td>\n",
       "      <td>pos</td>\n",
       "    </tr>\n",
       "    <tr>\n",
       "      <th>1</th>\n",
       "      <td>After a year’s delay, the Olympics 2020 are he...</td>\n",
       "      <td>{'neg': 0.023, 'neu': 0.915, 'pos': 0.062, 'co...</td>\n",
       "      <td>0.023</td>\n",
       "      <td>0.915</td>\n",
       "      <td>0.062</td>\n",
       "      <td>0.9628</td>\n",
       "      <td>pos</td>\n",
       "    </tr>\n",
       "    <tr>\n",
       "      <th>2</th>\n",
       "      <td>Defending Paralympic champions Will Bayley and...</td>\n",
       "      <td>{'neg': 0.012, 'neu': 0.866, 'pos': 0.122, 'co...</td>\n",
       "      <td>0.012</td>\n",
       "      <td>0.866</td>\n",
       "      <td>0.122</td>\n",
       "      <td>0.9844</td>\n",
       "      <td>pos</td>\n",
       "    </tr>\n",
       "    <tr>\n",
       "      <th>3</th>\n",
       "      <td>Liam Pitchford will compete at his third Olymp...</td>\n",
       "      <td>{'neg': 0.016, 'neu': 0.816, 'pos': 0.169, 'co...</td>\n",
       "      <td>0.016</td>\n",
       "      <td>0.816</td>\n",
       "      <td>0.169</td>\n",
       "      <td>0.9988</td>\n",
       "      <td>pos</td>\n",
       "    </tr>\n",
       "    <tr>\n",
       "      <th>4</th>\n",
       "      <td>Defending Paralympic champions Will Bayley and...</td>\n",
       "      <td>{'neg': 0.021, 'neu': 0.89, 'pos': 0.089, 'com...</td>\n",
       "      <td>0.021</td>\n",
       "      <td>0.890</td>\n",
       "      <td>0.089</td>\n",
       "      <td>0.8885</td>\n",
       "      <td>pos</td>\n",
       "    </tr>\n",
       "    <tr>\n",
       "      <th>5</th>\n",
       "      <td>After a series of injuries, surgeries and some...</td>\n",
       "      <td>{'neg': 0.045, 'neu': 0.83, 'pos': 0.126, 'com...</td>\n",
       "      <td>0.045</td>\n",
       "      <td>0.830</td>\n",
       "      <td>0.126</td>\n",
       "      <td>0.9694</td>\n",
       "      <td>pos</td>\n",
       "    </tr>\n",
       "  </tbody>\n",
       "</table>\n",
       "</div>"
      ],
      "text/plain": [
       "                                              report  \\\n",
       "0  Great Britain’s dreams of qualifying a men’s t...   \n",
       "1  After a year’s delay, the Olympics 2020 are he...   \n",
       "2  Defending Paralympic champions Will Bayley and...   \n",
       "3  Liam Pitchford will compete at his third Olymp...   \n",
       "4  Defending Paralympic champions Will Bayley and...   \n",
       "5  After a series of injuries, surgeries and some...   \n",
       "\n",
       "                                      SentimentScore  negative  neutral  \\\n",
       "0  {'neg': 0.056, 'neu': 0.797, 'pos': 0.146, 'co...     0.056    0.797   \n",
       "1  {'neg': 0.023, 'neu': 0.915, 'pos': 0.062, 'co...     0.023    0.915   \n",
       "2  {'neg': 0.012, 'neu': 0.866, 'pos': 0.122, 'co...     0.012    0.866   \n",
       "3  {'neg': 0.016, 'neu': 0.816, 'pos': 0.169, 'co...     0.016    0.816   \n",
       "4  {'neg': 0.021, 'neu': 0.89, 'pos': 0.089, 'com...     0.021    0.890   \n",
       "5  {'neg': 0.045, 'neu': 0.83, 'pos': 0.126, 'com...     0.045    0.830   \n",
       "\n",
       "   positive  compound Sentiment  \n",
       "0     0.146    0.9956       pos  \n",
       "1     0.062    0.9628       pos  \n",
       "2     0.122    0.9844       pos  \n",
       "3     0.169    0.9988       pos  \n",
       "4     0.089    0.8885       pos  \n",
       "5     0.126    0.9694       pos  "
      ]
     },
     "execution_count": 9,
     "metadata": {},
     "output_type": "execute_result"
    }
   ],
   "source": [
    "df"
   ]
  },
  {
   "cell_type": "code",
   "execution_count": 10,
   "metadata": {},
   "outputs": [
    {
     "data": {
      "text/plain": [
       "pos    6\n",
       "Name: Sentiment, dtype: int64"
      ]
     },
     "execution_count": 10,
     "metadata": {},
     "output_type": "execute_result"
    }
   ],
   "source": [
    "df['Sentiment'].value_counts()"
   ]
  }
 ],
 "metadata": {
  "kernelspec": {
   "display_name": "Python 3",
   "language": "python",
   "name": "python3"
  },
  "language_info": {
   "codemirror_mode": {
    "name": "ipython",
    "version": 3
   },
   "file_extension": ".py",
   "mimetype": "text/x-python",
   "name": "python",
   "nbconvert_exporter": "python",
   "pygments_lexer": "ipython3",
   "version": "3.8.5"
  }
 },
 "nbformat": 4,
 "nbformat_minor": 4
}
