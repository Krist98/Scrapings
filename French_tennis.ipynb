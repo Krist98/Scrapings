{
 "cells": [
  {
   "cell_type": "code",
   "execution_count": 3,
   "metadata": {},
   "outputs": [],
   "source": [
    "import nltk\n",
    "import numpy as np\n",
    "import pandas as pd"
   ]
  },
  {
   "cell_type": "code",
   "execution_count": 4,
   "metadata": {},
   "outputs": [],
   "source": [
    "from nltk.sentiment.vader import SentimentIntensityAnalyzer\n",
    "\n",
    "sid = SentimentIntensityAnalyzer()"
   ]
  },
  {
   "cell_type": "code",
   "execution_count": 5,
   "metadata": {},
   "outputs": [
    {
     "data": {
      "text/html": [
       "<div>\n",
       "<style scoped>\n",
       "    .dataframe tbody tr th:only-of-type {\n",
       "        vertical-align: middle;\n",
       "    }\n",
       "\n",
       "    .dataframe tbody tr th {\n",
       "        vertical-align: top;\n",
       "    }\n",
       "\n",
       "    .dataframe thead th {\n",
       "        text-align: right;\n",
       "    }\n",
       "</style>\n",
       "<table border=\"1\" class=\"dataframe\">\n",
       "  <thead>\n",
       "    <tr style=\"text-align: right;\">\n",
       "      <th></th>\n",
       "      <th>report</th>\n",
       "    </tr>\n",
       "  </thead>\n",
       "  <tbody>\n",
       "    <tr>\n",
       "      <th>0</th>\n",
       "      <td>Paris: The French Tennis Federation on Friday ...</td>\n",
       "    </tr>\n",
       "    <tr>\n",
       "      <th>1</th>\n",
       "      <td>French tennis star Benoit Paire has been sanct...</td>\n",
       "    </tr>\n",
       "    <tr>\n",
       "      <th>2</th>\n",
       "      <td>The French Tennis Federation has banned world ...</td>\n",
       "    </tr>\n",
       "    <tr>\n",
       "      <th>3</th>\n",
       "      <td>PARIS -- Coco Gauff says she \"definitely\" plan...</td>\n",
       "    </tr>\n",
       "    <tr>\n",
       "      <th>4</th>\n",
       "      <td>French pair Nicolas Mahut and Pierre-Hugues H...</td>\n",
       "    </tr>\n",
       "  </tbody>\n",
       "</table>\n",
       "</div>"
      ],
      "text/plain": [
       "                                              report\n",
       "0  Paris: The French Tennis Federation on Friday ...\n",
       "1  French tennis star Benoit Paire has been sanct...\n",
       "2  The French Tennis Federation has banned world ...\n",
       "3  PARIS -- Coco Gauff says she \"definitely\" plan...\n",
       "4   French pair Nicolas Mahut and Pierre-Hugues H..."
      ]
     },
     "execution_count": 5,
     "metadata": {},
     "output_type": "execute_result"
    }
   ],
   "source": [
    "df = pd.read_csv('FRENCH_TENNIS_1.tsv')\n",
    "df.head()"
   ]
  },
  {
   "cell_type": "code",
   "execution_count": 6,
   "metadata": {},
   "outputs": [],
   "source": [
    "df[\"SentimentScore\"] = df['report'].apply(lambda report: sid.polarity_scores(report))"
   ]
  },
  {
   "cell_type": "code",
   "execution_count": 7,
   "metadata": {},
   "outputs": [],
   "source": [
    "df['negative']  = df['SentimentScore'].apply(lambda score_dict: score_dict['neg'])\n",
    "df['neutral']  = df['SentimentScore'].apply(lambda score_dict: score_dict['neu'])\n",
    "df['positive']  = df['SentimentScore'].apply(lambda score_dict: score_dict['pos'])\n",
    "df['compound']  = df['SentimentScore'].apply(lambda score_dict: score_dict['compound'])\n"
   ]
  },
  {
   "cell_type": "code",
   "execution_count": 8,
   "metadata": {},
   "outputs": [
    {
     "data": {
      "text/html": [
       "<div>\n",
       "<style scoped>\n",
       "    .dataframe tbody tr th:only-of-type {\n",
       "        vertical-align: middle;\n",
       "    }\n",
       "\n",
       "    .dataframe tbody tr th {\n",
       "        vertical-align: top;\n",
       "    }\n",
       "\n",
       "    .dataframe thead th {\n",
       "        text-align: right;\n",
       "    }\n",
       "</style>\n",
       "<table border=\"1\" class=\"dataframe\">\n",
       "  <thead>\n",
       "    <tr style=\"text-align: right;\">\n",
       "      <th></th>\n",
       "      <th>report</th>\n",
       "      <th>SentimentScore</th>\n",
       "      <th>negative</th>\n",
       "      <th>neutral</th>\n",
       "      <th>positive</th>\n",
       "      <th>compound</th>\n",
       "    </tr>\n",
       "  </thead>\n",
       "  <tbody>\n",
       "    <tr>\n",
       "      <th>0</th>\n",
       "      <td>Paris: The French Tennis Federation on Friday ...</td>\n",
       "      <td>{'neg': 0.089, 'neu': 0.843, 'pos': 0.068, 'co...</td>\n",
       "      <td>0.089</td>\n",
       "      <td>0.843</td>\n",
       "      <td>0.068</td>\n",
       "      <td>-0.6894</td>\n",
       "    </tr>\n",
       "    <tr>\n",
       "      <th>1</th>\n",
       "      <td>French tennis star Benoit Paire has been sanct...</td>\n",
       "      <td>{'neg': 0.069, 'neu': 0.724, 'pos': 0.207, 'co...</td>\n",
       "      <td>0.069</td>\n",
       "      <td>0.724</td>\n",
       "      <td>0.207</td>\n",
       "      <td>0.9959</td>\n",
       "    </tr>\n",
       "    <tr>\n",
       "      <th>2</th>\n",
       "      <td>The French Tennis Federation has banned world ...</td>\n",
       "      <td>{'neg': 0.1, 'neu': 0.835, 'pos': 0.066, 'comp...</td>\n",
       "      <td>0.100</td>\n",
       "      <td>0.835</td>\n",
       "      <td>0.066</td>\n",
       "      <td>-0.7956</td>\n",
       "    </tr>\n",
       "    <tr>\n",
       "      <th>3</th>\n",
       "      <td>PARIS -- Coco Gauff says she \"definitely\" plan...</td>\n",
       "      <td>{'neg': 0.034, 'neu': 0.891, 'pos': 0.075, 'co...</td>\n",
       "      <td>0.034</td>\n",
       "      <td>0.891</td>\n",
       "      <td>0.075</td>\n",
       "      <td>0.8074</td>\n",
       "    </tr>\n",
       "    <tr>\n",
       "      <th>4</th>\n",
       "      <td>French pair Nicolas Mahut and Pierre-Hugues H...</td>\n",
       "      <td>{'neg': 0.063, 'neu': 0.814, 'pos': 0.123, 'co...</td>\n",
       "      <td>0.063</td>\n",
       "      <td>0.814</td>\n",
       "      <td>0.123</td>\n",
       "      <td>0.9895</td>\n",
       "    </tr>\n",
       "    <tr>\n",
       "      <th>5</th>\n",
       "      <td>Coco Gauff and Venus Williams are teaming up i...</td>\n",
       "      <td>{'neg': 0.074, 'neu': 0.767, 'pos': 0.16, 'com...</td>\n",
       "      <td>0.074</td>\n",
       "      <td>0.767</td>\n",
       "      <td>0.160</td>\n",
       "      <td>0.9423</td>\n",
       "    </tr>\n",
       "  </tbody>\n",
       "</table>\n",
       "</div>"
      ],
      "text/plain": [
       "                                              report  \\\n",
       "0  Paris: The French Tennis Federation on Friday ...   \n",
       "1  French tennis star Benoit Paire has been sanct...   \n",
       "2  The French Tennis Federation has banned world ...   \n",
       "3  PARIS -- Coco Gauff says she \"definitely\" plan...   \n",
       "4   French pair Nicolas Mahut and Pierre-Hugues H...   \n",
       "5  Coco Gauff and Venus Williams are teaming up i...   \n",
       "\n",
       "                                      SentimentScore  negative  neutral  \\\n",
       "0  {'neg': 0.089, 'neu': 0.843, 'pos': 0.068, 'co...     0.089    0.843   \n",
       "1  {'neg': 0.069, 'neu': 0.724, 'pos': 0.207, 'co...     0.069    0.724   \n",
       "2  {'neg': 0.1, 'neu': 0.835, 'pos': 0.066, 'comp...     0.100    0.835   \n",
       "3  {'neg': 0.034, 'neu': 0.891, 'pos': 0.075, 'co...     0.034    0.891   \n",
       "4  {'neg': 0.063, 'neu': 0.814, 'pos': 0.123, 'co...     0.063    0.814   \n",
       "5  {'neg': 0.074, 'neu': 0.767, 'pos': 0.16, 'com...     0.074    0.767   \n",
       "\n",
       "   positive  compound  \n",
       "0     0.068   -0.6894  \n",
       "1     0.207    0.9959  \n",
       "2     0.066   -0.7956  \n",
       "3     0.075    0.8074  \n",
       "4     0.123    0.9895  \n",
       "5     0.160    0.9423  "
      ]
     },
     "execution_count": 8,
     "metadata": {},
     "output_type": "execute_result"
    }
   ],
   "source": [
    "df"
   ]
  },
  {
   "cell_type": "code",
   "execution_count": 9,
   "metadata": {},
   "outputs": [],
   "source": [
    "df[\"Sentiment\"] =  df['compound'].apply(lambda x: 'neg' if x < 0  else('neut' if x == 0 else 'pos'))"
   ]
  },
  {
   "cell_type": "code",
   "execution_count": 10,
   "metadata": {},
   "outputs": [
    {
     "data": {
      "text/html": [
       "<div>\n",
       "<style scoped>\n",
       "    .dataframe tbody tr th:only-of-type {\n",
       "        vertical-align: middle;\n",
       "    }\n",
       "\n",
       "    .dataframe tbody tr th {\n",
       "        vertical-align: top;\n",
       "    }\n",
       "\n",
       "    .dataframe thead th {\n",
       "        text-align: right;\n",
       "    }\n",
       "</style>\n",
       "<table border=\"1\" class=\"dataframe\">\n",
       "  <thead>\n",
       "    <tr style=\"text-align: right;\">\n",
       "      <th></th>\n",
       "      <th>report</th>\n",
       "      <th>SentimentScore</th>\n",
       "      <th>negative</th>\n",
       "      <th>neutral</th>\n",
       "      <th>positive</th>\n",
       "      <th>compound</th>\n",
       "      <th>Sentiment</th>\n",
       "    </tr>\n",
       "  </thead>\n",
       "  <tbody>\n",
       "    <tr>\n",
       "      <th>0</th>\n",
       "      <td>Paris: The French Tennis Federation on Friday ...</td>\n",
       "      <td>{'neg': 0.089, 'neu': 0.843, 'pos': 0.068, 'co...</td>\n",
       "      <td>0.089</td>\n",
       "      <td>0.843</td>\n",
       "      <td>0.068</td>\n",
       "      <td>-0.6894</td>\n",
       "      <td>neg</td>\n",
       "    </tr>\n",
       "    <tr>\n",
       "      <th>1</th>\n",
       "      <td>French tennis star Benoit Paire has been sanct...</td>\n",
       "      <td>{'neg': 0.069, 'neu': 0.724, 'pos': 0.207, 'co...</td>\n",
       "      <td>0.069</td>\n",
       "      <td>0.724</td>\n",
       "      <td>0.207</td>\n",
       "      <td>0.9959</td>\n",
       "      <td>pos</td>\n",
       "    </tr>\n",
       "    <tr>\n",
       "      <th>2</th>\n",
       "      <td>The French Tennis Federation has banned world ...</td>\n",
       "      <td>{'neg': 0.1, 'neu': 0.835, 'pos': 0.066, 'comp...</td>\n",
       "      <td>0.100</td>\n",
       "      <td>0.835</td>\n",
       "      <td>0.066</td>\n",
       "      <td>-0.7956</td>\n",
       "      <td>neg</td>\n",
       "    </tr>\n",
       "    <tr>\n",
       "      <th>3</th>\n",
       "      <td>PARIS -- Coco Gauff says she \"definitely\" plan...</td>\n",
       "      <td>{'neg': 0.034, 'neu': 0.891, 'pos': 0.075, 'co...</td>\n",
       "      <td>0.034</td>\n",
       "      <td>0.891</td>\n",
       "      <td>0.075</td>\n",
       "      <td>0.8074</td>\n",
       "      <td>pos</td>\n",
       "    </tr>\n",
       "    <tr>\n",
       "      <th>4</th>\n",
       "      <td>French pair Nicolas Mahut and Pierre-Hugues H...</td>\n",
       "      <td>{'neg': 0.063, 'neu': 0.814, 'pos': 0.123, 'co...</td>\n",
       "      <td>0.063</td>\n",
       "      <td>0.814</td>\n",
       "      <td>0.123</td>\n",
       "      <td>0.9895</td>\n",
       "      <td>pos</td>\n",
       "    </tr>\n",
       "    <tr>\n",
       "      <th>5</th>\n",
       "      <td>Coco Gauff and Venus Williams are teaming up i...</td>\n",
       "      <td>{'neg': 0.074, 'neu': 0.767, 'pos': 0.16, 'com...</td>\n",
       "      <td>0.074</td>\n",
       "      <td>0.767</td>\n",
       "      <td>0.160</td>\n",
       "      <td>0.9423</td>\n",
       "      <td>pos</td>\n",
       "    </tr>\n",
       "  </tbody>\n",
       "</table>\n",
       "</div>"
      ],
      "text/plain": [
       "                                              report  \\\n",
       "0  Paris: The French Tennis Federation on Friday ...   \n",
       "1  French tennis star Benoit Paire has been sanct...   \n",
       "2  The French Tennis Federation has banned world ...   \n",
       "3  PARIS -- Coco Gauff says she \"definitely\" plan...   \n",
       "4   French pair Nicolas Mahut and Pierre-Hugues H...   \n",
       "5  Coco Gauff and Venus Williams are teaming up i...   \n",
       "\n",
       "                                      SentimentScore  negative  neutral  \\\n",
       "0  {'neg': 0.089, 'neu': 0.843, 'pos': 0.068, 'co...     0.089    0.843   \n",
       "1  {'neg': 0.069, 'neu': 0.724, 'pos': 0.207, 'co...     0.069    0.724   \n",
       "2  {'neg': 0.1, 'neu': 0.835, 'pos': 0.066, 'comp...     0.100    0.835   \n",
       "3  {'neg': 0.034, 'neu': 0.891, 'pos': 0.075, 'co...     0.034    0.891   \n",
       "4  {'neg': 0.063, 'neu': 0.814, 'pos': 0.123, 'co...     0.063    0.814   \n",
       "5  {'neg': 0.074, 'neu': 0.767, 'pos': 0.16, 'com...     0.074    0.767   \n",
       "\n",
       "   positive  compound Sentiment  \n",
       "0     0.068   -0.6894       neg  \n",
       "1     0.207    0.9959       pos  \n",
       "2     0.066   -0.7956       neg  \n",
       "3     0.075    0.8074       pos  \n",
       "4     0.123    0.9895       pos  \n",
       "5     0.160    0.9423       pos  "
      ]
     },
     "execution_count": 10,
     "metadata": {},
     "output_type": "execute_result"
    }
   ],
   "source": [
    "df"
   ]
  },
  {
   "cell_type": "code",
   "execution_count": 11,
   "metadata": {},
   "outputs": [
    {
     "data": {
      "text/plain": [
       "pos    4\n",
       "neg    2\n",
       "Name: Sentiment, dtype: int64"
      ]
     },
     "execution_count": 11,
     "metadata": {},
     "output_type": "execute_result"
    }
   ],
   "source": [
    "df['Sentiment'].value_counts()"
   ]
  },
  {
   "cell_type": "code",
   "execution_count": null,
   "metadata": {},
   "outputs": [],
   "source": []
  }
 ],
 "metadata": {
  "kernelspec": {
   "display_name": "Python 3",
   "language": "python",
   "name": "python3"
  },
  "language_info": {
   "codemirror_mode": {
    "name": "ipython",
    "version": 3
   },
   "file_extension": ".py",
   "mimetype": "text/x-python",
   "name": "python",
   "nbconvert_exporter": "python",
   "pygments_lexer": "ipython3",
   "version": "3.8.5"
  }
 },
 "nbformat": 4,
 "nbformat_minor": 4
}
